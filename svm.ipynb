{
  "nbformat": 4,
  "nbformat_minor": 0,
  "metadata": {
    "colab": {
      "name": "svm.ipynb",
      "provenance": [],
      "collapsed_sections": []
    },
    "kernelspec": {
      "name": "python3",
      "display_name": "Python 3"
    },
    "language_info": {
      "name": "python"
    }
  },
  "cells": [
    {
      "cell_type": "markdown",
      "source": [
        "**SVM**"
      ],
      "metadata": {
        "id": "rZIsvB6hvlNP"
      }
    },
    {
      "cell_type": "code",
      "execution_count": 46,
      "metadata": {
        "colab": {
          "base_uri": "https://localhost:8080/"
        },
        "id": "S7gzosJhotZq",
        "outputId": "b95ddd4e-ef90-4587-96b8-da15eb362f29"
      },
      "outputs": [
        {
          "output_type": "stream",
          "name": "stdout",
          "text": [
            "Fitur:  ['mean radius' 'mean texture' 'mean perimeter' 'mean area'\n",
            " 'mean smoothness' 'mean compactness' 'mean concavity'\n",
            " 'mean concave points' 'mean symmetry' 'mean fractal dimension'\n",
            " 'radius error' 'texture error' 'perimeter error' 'area error'\n",
            " 'smoothness error' 'compactness error' 'concavity error'\n",
            " 'concave points error' 'symmetry error' 'fractal dimension error'\n",
            " 'worst radius' 'worst texture' 'worst perimeter' 'worst area'\n",
            " 'worst smoothness' 'worst compactness' 'worst concavity'\n",
            " 'worst concave points' 'worst symmetry' 'worst fractal dimension']\n",
            "Label:  ['malignant' 'benign']\n"
          ]
        }
      ],
      "source": [
        "from sklearn import datasets\n",
        "from sklearn import svm\n",
        "from sklearn.model_selection import train_test_split\n",
        "from sklearn import metrics\n",
        "from matplotlib import pyplot as plt\n",
        "import numpy as np\n",
        "#Load dataset\n",
        "cancer = datasets.load_breast_cancer()\n",
        "print(\"Fitur: \", cancer.feature_names)\n",
        "\n",
        "# print label\n",
        "print(\"Label: \", cancer.target_names)"
      ]
    },
    {
      "cell_type": "code",
      "source": [
        "X_train, X_test, y_train, y_test = train_test_split(cancer.data, cancer.target, test_size=0.3,random_state=42) \n",
        "\n",
        "clf = svm.SVC(kernel='linear') # Linear Kernel\n",
        "\n",
        "#Train the model using the training sets\n",
        "clf.fit(X_train, y_train)\n",
        "\n",
        "\n",
        "#Predict the response for test dataset\n",
        "y_pred = clf.predict(X_test)\n",
        "\n",
        "print(y_pred)\n",
        "print(\"Accuracy:\",metrics.accuracy_score(y_test, y_pred))"
      ],
      "metadata": {
        "colab": {
          "base_uri": "https://localhost:8080/"
        },
        "id": "NM95vgVmDtr9",
        "outputId": "225f1ff7-5508-47b7-b49a-4d0514d19800"
      },
      "execution_count": 50,
      "outputs": [
        {
          "output_type": "stream",
          "name": "stdout",
          "text": [
            "[1 0 0 1 1 0 0 0 1 1 1 0 1 0 1 0 1 1 1 0 1 1 0 1 1 1 1 1 1 0 1 1 1 1 1 1 0\n",
            " 1 0 1 1 0 1 1 1 1 1 1 1 1 0 0 1 1 1 1 1 0 1 1 1 0 0 1 1 1 0 0 1 1 0 0 1 0\n",
            " 1 1 1 1 1 1 0 1 1 0 0 0 0 0 1 1 1 1 1 1 1 1 0 0 1 0 0 1 0 0 1 1 1 0 1 1 0\n",
            " 1 0 0 1 0 1 1 1 0 0 1 1 0 1 0 0 1 1 0 0 0 1 1 1 0 1 1 1 0 1 0 1 1 0 1 0 0\n",
            " 0 1 0 1 1 1 1 0 0 1 1 1 1 1 1 1 0 1 1 1 1 0 1]\n",
            "Accuracy: 0.9649122807017544\n"
          ]
        }
      ]
    },
    {
      "cell_type": "markdown",
      "source": [
        "**RVM**"
      ],
      "metadata": {
        "id": "4u6n98QZ3yTQ"
      }
    },
    {
      "cell_type": "code",
      "source": [
        "!pip install https://github.com/JamesRitchie/scikit-rvm/archive/master.zip"
      ],
      "metadata": {
        "colab": {
          "base_uri": "https://localhost:8080/"
        },
        "id": "5Lqno0IN31d3",
        "outputId": "4e91fad2-22ca-4600-b373-c54237e50123"
      },
      "execution_count": 23,
      "outputs": [
        {
          "output_type": "stream",
          "name": "stdout",
          "text": [
            "Collecting https://github.com/JamesRitchie/scikit-rvm/archive/master.zip\n",
            "  Downloading https://github.com/JamesRitchie/scikit-rvm/archive/master.zip\n",
            "\u001b[K     / 10 kB 4.5 MB/s\n",
            "\u001b[?25hRequirement already satisfied: numpy>=1.9.2 in /usr/local/lib/python3.7/dist-packages (from scikit-rvm==0.1.0a1) (1.21.5)\n",
            "Requirement already satisfied: scipy>=0.15.1 in /usr/local/lib/python3.7/dist-packages (from scikit-rvm==0.1.0a1) (1.4.1)\n",
            "Requirement already satisfied: scikit-learn>=0.16.1 in /usr/local/lib/python3.7/dist-packages (from scikit-rvm==0.1.0a1) (1.0.2)\n",
            "Requirement already satisfied: joblib>=0.11 in /usr/local/lib/python3.7/dist-packages (from scikit-learn>=0.16.1->scikit-rvm==0.1.0a1) (1.1.0)\n",
            "Requirement already satisfied: threadpoolctl>=2.0.0 in /usr/local/lib/python3.7/dist-packages (from scikit-learn>=0.16.1->scikit-rvm==0.1.0a1) (3.1.0)\n",
            "Building wheels for collected packages: scikit-rvm\n",
            "  Building wheel for scikit-rvm (setup.py) ... \u001b[?25l\u001b[?25hdone\n",
            "  Created wheel for scikit-rvm: filename=scikit_rvm-0.1.0a1-py3-none-any.whl size=4240 sha256=baa1356f1d089765c1631c06362af91aa291f20f66913d49e212a81c5da347c2\n",
            "  Stored in directory: /tmp/pip-ephem-wheel-cache-s4dpjw3w/wheels/38/4d/8c/6c26199fcff73720c62e1cae6779b5a921fb96938369026086\n",
            "Successfully built scikit-rvm\n",
            "Installing collected packages: scikit-rvm\n",
            "Successfully installed scikit-rvm-0.1.0a1\n"
          ]
        }
      ]
    },
    {
      "cell_type": "code",
      "source": [
        "from skrvm import RVC\n",
        "cancer = datasets.load_breast_cancer()\n",
        "clf = RVC()\n",
        "clf.fit(cancer.data, cancer.target)\n",
        "\n",
        "RVC(alpha=1e-06, beta=1e-06, beta_fixed=False, bias_used=True, coef0=0.0,coef1=None, degree=3, kernel='rbf', n_iter=3000, n_iter_posterior=50,threshold_alpha=1000000000.0, tol=0.001, verbose=False)\n",
        "y_pred = clf.predict(X_test)\n",
        "print(y_pred)\n",
        "print(\"Accuracy:\",metrics.accuracy_score(y_test, y_pred))\n"
      ],
      "metadata": {
        "colab": {
          "base_uri": "https://localhost:8080/"
        },
        "id": "CUtAH0Yz5H6O",
        "outputId": "a1738864-eb12-47f3-9df2-0e023770f953"
      },
      "execution_count": 51,
      "outputs": [
        {
          "output_type": "stream",
          "name": "stdout",
          "text": [
            "[1 0 0 1 1 0 0 0 1 1 1 0 1 0 1 0 1 1 1 0 0 1 0 1 1 1 1 1 1 0 1 1 1 1 1 1 0\n",
            " 1 0 1 1 0 1 1 1 1 1 1 1 1 0 0 1 1 1 1 1 0 0 1 1 0 0 1 1 1 0 0 1 1 0 0 1 0\n",
            " 1 1 1 0 1 1 0 1 0 0 0 0 0 0 1 1 1 1 1 1 1 1 0 0 1 0 0 1 0 0 1 1 1 0 1 1 0\n",
            " 1 1 0 1 0 1 1 1 0 1 1 1 0 1 0 0 1 1 0 0 0 1 1 1 0 1 1 1 0 1 0 1 1 0 1 0 0\n",
            " 0 1 0 1 1 1 1 0 0 1 1 1 1 1 1 1 0 1 1 1 1 0 1]\n",
            "Accuracy: 1.0\n"
          ]
        }
      ]
    },
    {
      "cell_type": "code",
      "source": [
        "x_kecil = np.array([[1,2],\n",
        "             [5,8],\n",
        "             [1.5,1.8],\n",
        "             [8,8],\n",
        "             [1,0.6],\n",
        "             [9,11]])\n",
        "x_kecilTes=np.array([\n",
        "             [6,8],\n",
        "             [9,5],\n",
        "             [0.3,1],\n",
        "             [1,0.2],\n",
        "             [10,11]])\n",
        "y_kecil = [0,1,0,1,0,1]\n",
        "y_kecilTes = [1,1,0,0,1]"
      ],
      "metadata": {
        "id": "hGmrmewqMhYo"
      },
      "execution_count": 59,
      "outputs": []
    },
    {
      "cell_type": "code",
      "source": [
        "#svm\n",
        "clf = svm.SVC(kernel='linear', C = 1.0)\n",
        "clf.fit(x_kecil,y_kecil)\n",
        "\n",
        "w = clf.coef_[0]\n",
        "a = -w[0] / w[1]\n",
        "xx = np.linspace(0,12)\n",
        "yy = a * xx - clf.intercept_[0] / w[1]\n",
        "\n",
        "h0 = plt.plot(xx, yy)\n",
        "\n",
        "plt.scatter(x_kecil[:, 0], x_kecil[:, 1], c = y_kecil)\n",
        "\n",
        "plt.show()\n",
        "y_kecilPred=clf.predict(x_kecilTes)\n",
        "print(\"Accuracy:\",metrics.accuracy_score(y_kecilTes, y_kecilPred))"
      ],
      "metadata": {
        "colab": {
          "base_uri": "https://localhost:8080/",
          "height": 283
        },
        "id": "LVAHueR9Jmju",
        "outputId": "e81899a7-4ec0-4618-91a5-f31255bb296a"
      },
      "execution_count": 62,
      "outputs": [
        {
          "output_type": "display_data",
          "data": {
            "text/plain": [
              "<Figure size 432x288 with 1 Axes>"
            ],
            "image/png": "[encoded data removed]"
          },
          "metadata": {
            "needs_background": "light"
          }
        },
        {
          "output_type": "stream",
          "name": "stdout",
          "text": [
            "Accuracy: 1.0\n"
          ]
        }
      ]
    },
    {
      "cell_type": "code",
      "source": [
        "!pip install sklearn-rvm"
      ],
      "metadata": {
        "colab": {
          "base_uri": "https://localhost:8080/"
        },
        "id": "sPjqV30wOkCI",
        "outputId": "c32f92cd-a712-410d-a381-9ef2bad44234"
      },
      "execution_count": 70,
      "outputs": [
        {
          "output_type": "stream",
          "name": "stdout",
          "text": [
            "Requirement already satisfied: sklearn-rvm in /usr/local/lib/python3.7/dist-packages (0.1.1)\n",
            "Requirement already satisfied: scikit-learn in /usr/local/lib/python3.7/dist-packages (from sklearn-rvm) (1.0.2)\n",
            "Requirement already satisfied: numpy in /usr/local/lib/python3.7/dist-packages (from sklearn-rvm) (1.21.5)\n",
            "Requirement already satisfied: scipy in /usr/local/lib/python3.7/dist-packages (from sklearn-rvm) (1.4.1)\n",
            "Requirement already satisfied: threadpoolctl>=2.0.0 in /usr/local/lib/python3.7/dist-packages (from scikit-learn->sklearn-rvm) (3.1.0)\n",
            "Requirement already satisfied: joblib>=0.11 in /usr/local/lib/python3.7/dist-packages (from scikit-learn->sklearn-rvm) (1.1.0)\n"
          ]
        }
      ]
    },
    {
      "cell_type": "code",
      "source": [
        "#rvm\n",
        "from sklearn_rvm import EMRVC\n",
        "model = EMRVC(kernel=\"rbf\")\n",
        "model.fit(x_kecil, y_kecil)\n",
        "\n",
        "x0, x1 = np.meshgrid(np.linspace(-4, 4, 100), np.linspace(-4, 4, 100))\n",
        "x = np.array([x0, x1]).reshape(2, -1).T\n",
        "plt.scatter(x_kecil[:, 0], x_kecil[:, 1], s=40, c=y_kecil, marker=\"x\")\n",
        "plt.scatter(model.relevance_vectors_[:, 0], model.relevance_vectors_[:, 1], s=100, facecolor=\"none\", edgecolor=\"g\")\n",
        "plt.contourf(x0, x1, model.predict_proba(x)[:, 1].reshape(100, 100), np.linspace(0, 1, 5), alpha=0.2)\n",
        "plt.colorbar()\n",
        "plt.xlim(-4, 4)\n",
        "plt.ylim(-4, 4)\n",
        "plt.gca().set_aspect(\"equal\", adjustable=\"box\")"
      ],
      "metadata": {
        "colab": {
          "base_uri": "https://localhost:8080/",
          "height": 326
        },
        "id": "0KyTgOIyMoKI",
        "outputId": "295ca9a4-47c5-4d70-e600-4367059d8569"
      },
      "execution_count": 71,
      "outputs": [
        {
          "output_type": "stream",
          "name": "stderr",
          "text": [
            "/usr/local/lib/python3.7/dist-packages/sklearn_rvm/em_rvm.py:679: FutureWarning: The default value of gamma will change from 'auto' to 'scale' in version 0.22 to account better for unscaled features. Set gamma explicitly to 'auto' or 'scale' to avoid this warning.\n",
            "  \"avoid this warning.\", FutureWarning)\n"
          ]
        },
        {
          "output_type": "display_data",
          "data": {
            "text/plain": [
              "<Figure size 432x288 with 2 Axes>"
            ],
            "image/png": "[encoded data removed]"
          },
          "metadata": {
            "needs_background": "light"
          }
        }
      ]
    }
  ]
}